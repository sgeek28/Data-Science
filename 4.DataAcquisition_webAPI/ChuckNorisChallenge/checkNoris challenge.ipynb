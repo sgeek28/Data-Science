{
 "cells": [
  {
   "cell_type": "code",
   "execution_count": null,
   "metadata": {},
   "outputs": [],
   "source": [
    "import requests\n",
    "from bs4 import BeautifulSoup as soup \n",
    "import pandas as pd\n",
    "import json\n",
    "\n",
    "df=pd.read_csv('ID.csv')\n",
    "lst=df['ID'].values.tolist()\n",
    "print(lst)\n",
    "\n",
    "strm=\"ID,Joke\"\n",
    "\n",
    "jokes_str=''    \n",
    "for item in lst[:10]:\n",
    "    jokes_url=\"http://api.icndb.com/jokes/\"+str(item)  \n",
    "    r=requests.get(jokes_url)\n",
    "    #print(type(r.content.decode('UTF-8')))\n",
    "    \n",
    "    #convert string to dictionary\n",
    "    jokes_data=json.loads(r.content.decode('UTF-8'))\n",
    "    jokes_str=str(jokes_data['value']['id'])+\",\"+jokes_data['value']['joke']\n",
    "    print(jokes_str)\n",
    "    \n",
    "#with open(\"final.csv\",\"w\") as f:\n",
    "#        f.write(strm)\n",
    "#        f.write(jokes_str)\n",
    "    \n",
    "    \n",
    "    \n",
    "    \n",
    "    \n",
    "    \n",
    "    \n",
    "    \n",
    "\n",
    "\n",
    "    \n",
    "\n"
   ]
  },
  {
   "cell_type": "code",
   "execution_count": null,
   "metadata": {},
   "outputs": [],
   "source": []
  }
 ],
 "metadata": {
  "kernelspec": {
   "display_name": "Python 3",
   "language": "python",
   "name": "python3"
  },
  "language_info": {
   "codemirror_mode": {
    "name": "ipython",
    "version": 3
   },
   "file_extension": ".py",
   "mimetype": "text/x-python",
   "name": "python",
   "nbconvert_exporter": "python",
   "pygments_lexer": "ipython3",
   "version": "3.7.6"
  }
 },
 "nbformat": 4,
 "nbformat_minor": 2
}
