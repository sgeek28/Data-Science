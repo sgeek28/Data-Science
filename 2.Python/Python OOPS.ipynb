{
 "cells": [
  {
   "cell_type": "markdown",
   "metadata": {},
   "source": [
    "# OOPS in PYTHON"
   ]
  },
  {
   "cell_type": "markdown",
   "metadata": {},
   "source": [
    "#class is blueprint for eg., how car will look like a basic template\n",
    "#object is real object in which we can car color, speed, model, size.\n",
    "#The objects resides in main memory\n",
    "#class doesn't takes memory it just a new data type"
   ]
  },
  {
   "cell_type": "markdown",
   "metadata": {},
   "source": [
    "#in a class we can define two things data member and member functions"
   ]
  },
  {
   "cell_type": "markdown",
   "metadata": {},
   "source": [
    "# Minimalistic Python Class"
   ]
  },
  {
   "cell_type": "code",
   "execution_count": 2,
   "metadata": {},
   "outputs": [
    {
     "name": "stdout",
     "output_type": "stream",
     "text": [
      "<__main__.Person object at 0x7fedc00a6e50>\n",
      "<class '__main__.Person'>\n"
     ]
    }
   ],
   "source": [
    "class Person():\n",
    "    pass\n",
    "p=Person()\n",
    "\n",
    "#person object p at address 0x7fedc018f390\n",
    "print(p)\n",
    "\n",
    "#person of main class as running class is Person\n",
    "print(type(p))"
   ]
  },
  {
   "cell_type": "code",
   "execution_count": 3,
   "metadata": {},
   "outputs": [],
   "source": [
    "#self is keyword in Python that refers to object in that class\n",
    "#__init__ is method used to initialize object of this class basically a constructor\n",
    "#every Python function must have self as first parameter\n",
    "#self.x is data member of a class in which it is defined\n",
    "\n"
   ]
  },
  {
   "cell_type": "markdown",
   "metadata": {},
   "source": [
    "# Let us define one Person Class"
   ]
  },
  {
   "cell_type": "code",
   "execution_count": 6,
   "metadata": {},
   "outputs": [
    {
     "name": "stdout",
     "output_type": "stream",
     "text": [
      "My name is Sneha Shukla\n",
      "I am studing in IIT JAMMU\n",
      "I am Indian\n",
      "Hello Sneha Shukla\n",
      "My name is Bulbasaur\n",
      "I am studing in Pokemons\n",
      "I am Indian\n",
      "Hello Bulbasaur\n"
     ]
    }
   ],
   "source": [
    "class Person():\n",
    "    \n",
    "    #Class variables which are same for every instance/object of same class\n",
    "    nationality=\"Indian\"\n",
    "    \n",
    "    def __init__(self,pname,clg):\n",
    "        #Instance variables which are different for every instance/object of same class\n",
    "        self.name=pname\n",
    "        self.college=clg\n",
    "    \n",
    "    def sayHi(self,name):\n",
    "        print(\"Hello \"+name)\n",
    "    \n",
    "    def introduce(self):\n",
    "        print(\"My name is \"+self.name)\n",
    "        print(\"I am studing in \"+self.college)\n",
    "        print(\"I am \"+self.nationality)\n",
    "    \n",
    "p=Person(\"Sneha Shukla\",\"IIT JAMMU\")\n",
    "p.introduce()\n",
    "p.sayHi(\"Sneha Shukla\")\n",
    "\n",
    "p2=Person(\"Bulbasaur\",\"Pokemons\")\n",
    "p2.introduce()\n",
    "p2.sayHi(\"Bulbasaur\")\n"
   ]
  },
  {
   "cell_type": "markdown",
   "metadata": {},
   "source": [
    "# Instance Variable vs Class variables"
   ]
  },
  {
   "cell_type": "code",
   "execution_count": 18,
   "metadata": {},
   "outputs": [
    {
     "name": "stdout",
     "output_type": "stream",
     "text": [
      "German Shephard\n",
      "['High Jump', 'Roll Over']\n",
      "Doing secret activity  German Shephard\n",
      "Golden Retriever\n",
      "['Roll Upside Down', 'Low Jump']\n",
      "Doing secret activity  Golden Retriever\n"
     ]
    }
   ],
   "source": [
    "class Dog():\n",
    "    \n",
    "    color=\"Brown\"\n",
    "    #activities=[]\n",
    "    \n",
    "    def __init__(self,breed):\n",
    "        \"\"\"This constructor is used to initialize breed parameter of Dog\"\"\"\n",
    "        self.breed=breed\n",
    "        self.activities=[]\n",
    "    \n",
    "    def addActivity(self,act):\n",
    "        self.activities.append(act)\n",
    "        \n",
    "    #private method    \n",
    "    def __secretActivity(self):\n",
    "        print(\"Doing secret activity \",self.breed)\n",
    "        \n",
    "    def doActivity(self):\n",
    "        \"\"\"This method prints the breed ,activity list and the dog performing secret activity\"\"\"\n",
    "        print(self.breed)\n",
    "        print(self.activities)\n",
    "        \n",
    "        #calling private method within class using public method doActivity\n",
    "        self.__secretActivity()\n",
    "        \n",
    "d1=Dog(\"German Shephard\")\n",
    "d2=Dog(\"Golden Retriever\")\n",
    "\n",
    "\n",
    "#initially empty list will be printed\n",
    "# so call addActivity before  doActivity\n",
    "d1.addActivity(\"High Jump\")\n",
    "d1.addActivity(\"Roll Over\")\n",
    "d2.addActivity(\"Roll Upside Down\")\n",
    "d2.addActivity(\"Low Jump\")\n",
    "d1.doActivity()\n",
    "d2.doActivity()\n",
    "\n",
    "d2.doActivity?\n",
    "\n",
    "#we can see for both the activities list is same as it is Class variable\n",
    "#make it instance variable list, place it inside constructor self.activities=[]\n",
    "#After this both have different list of activities to perform"
   ]
  },
  {
   "cell_type": "markdown",
   "metadata": {},
   "source": [
    "# Public vs Private"
   ]
  },
  {
   "cell_type": "markdown",
   "metadata": {},
   "source": [
    "#by default all methods, data-members and contructors are public\n",
    "#we can make them private by using double underscore before method name\n",
    "#private methods are not directly accessible outside the class they can be accessed internally using public methods\n",
    "#d1.__secretActivity() will throw error\n",
    "#even d1.secretActivity() will throw name attribute error\n",
    "#using self.__secretActivity() within public method of Class i.e, doActivity will execute successfully\n",
    "\n",
    "\n",
    "\n",
    "#if we want to know what each method is doing we have to place ? after method name\n",
    "#for e.g., d2.doActivity?\n",
    "#in order to get description for this method we can add arguments inside method using triple quotes as shown \n",
    "#above in example"
   ]
  },
  {
   "cell_type": "markdown",
   "metadata": {},
   "source": [
    "# Python Inheritance"
   ]
  },
  {
   "cell_type": "markdown",
   "metadata": {},
   "source": [
    "#Inheritance is used to increase code reusability \n",
    "#we can have car, bike,truck which are vehicles basically\n",
    "#they have common properties like -price, model no, colour\n",
    "#they possess few different attributes like car has power window, bike has racing gear and truck has load\n",
    "#so instead of creating seperate class for all three we can have one parent class vehicle.\n",
    "#and car,bike ,truck will be derived class such that every derived class is a parent class \n",
    "#but vice versa is not true"
   ]
  },
  {
   "cell_type": "code",
   "execution_count": 26,
   "metadata": {},
   "outputs": [
    {
     "name": "stdout",
     "output_type": "stream",
     "text": [
      "Inside init School Member Sneha Shukla\n",
      "Inside init Teacher Sneha Shukla\n",
      "Name is Sneha Shukla and age is 25\n",
      "Salary: 100000\n",
      "Inside init School Member XYZ\n",
      "Init Student XYZ\n",
      "Name is XYZ and age is 10\n",
      "Marks: 86\n"
     ]
    }
   ],
   "source": [
    "class SchoolMember():\n",
    "    def __init__(self,name,age):\n",
    "        self.name=name\n",
    "        self.age=age\n",
    "        print(\"Inside init School Member %s\"%self.name)\n",
    "    \n",
    "    def introduce(self):\n",
    "        print(\"Name is %s and age is %d\"%(self.name,self.age))\n",
    "    \n",
    "    \n",
    "class Teacher(SchoolMember):\n",
    "    \n",
    "    def __init__(self,name,age,salary):\n",
    "        SchoolMember.__init__(self,name,age)\n",
    "        self.salary=salary\n",
    "        print(\"Inside init Teacher %s\"%self.name)\n",
    "        \n",
    "    def introduce(self):\n",
    "        SchoolMember.introduce(self)\n",
    "        print(\"Salary: %d\"%self.salary)\n",
    "        \n",
    "class Student(SchoolMember):\n",
    "    \n",
    "    def __init__(self,name,age,marks):\n",
    "        SchoolMember.__init__(self,name,age)\n",
    "        self.marks=marks\n",
    "        print(\"Init Student %s\"%self.name)\n",
    "    \n",
    "    def introduce(self):\n",
    "        SchoolMember.introduce(self)\n",
    "        print(\"Marks: %d\"%self.marks)\n",
    "\n",
    "        \n",
    "#output is Base class followed by derived class         \n",
    "        \n",
    "t=Teacher(\"Sneha Shukla\",25,100000)\n",
    "t.introduce()\n",
    "\n",
    "s=Student(\"XYZ\",10,86)\n",
    "s.introduce()\n",
    "        \n",
    "        "
   ]
  },
  {
   "cell_type": "markdown",
   "metadata": {},
   "source": [
    "# Python File Handling"
   ]
  },
  {
   "cell_type": "markdown",
   "metadata": {},
   "source": [
    "- Python is able to handle file scripts\n",
    "- it has 6 file access modes mentioned below:\n",
    "- Read Only(r): we can open file with read only permission i.e, file pointer will be placed at beginning of file\n",
    "- if we try to open file which doesn't exist then it will throw i/o error\n",
    "- Read and Write(r+): we can read and write the file.If file doen't exist it will throw i/o error.\n",
    "- Write Only(w): we can overwrite the old file.if the file doesn't exist then new file will be created.\n",
    "- The cursor will point to the beginning of the file\n",
    "- Write and Read(w+): it will open file for writing and read.If existing file then data is overwitten.\n",
    "- The cursor will point to the beginning of the file\n",
    "- Append Only(a): Open the file fr writing.IF the file is not there then new file is created.The data pointer\n",
    "- will point to the end of file it will start appending from the end of file\n",
    "- Append and Read(a+): This mode is used for reading and writing.File handle is placed after end of file.\n",
    "- If file doen't exist then new file is created\n"
   ]
  },
  {
   "cell_type": "code",
   "execution_count": 10,
   "metadata": {},
   "outputs": [],
   "source": [
    "#ensure that python file and txt file both are in the same directory\n",
    "#f is file handle\n",
    "\n",
    "f=open(\"sample_file.txt\",'r')\n",
    "\n",
    "#to read content of file \n",
    "f.read()\n",
    "\n",
    "f=open(\"sample_files.txt\",'w')\n",
    "content=\"Hello World\\n\"\n",
    "l=[content]*3\n",
    "\n",
    "#writelines takes list as input or string as input\n",
    "f.writelines(l)\n",
    "\n",
    "#in order to use write function we need to pass string\n",
    "f.write(content)\n",
    "\n",
    "#after using close the file\n",
    "f.close()"
   ]
  },
  {
   "cell_type": "markdown",
   "metadata": {},
   "source": [
    "# Reading from a file"
   ]
  },
  {
   "cell_type": "code",
   "execution_count": 17,
   "metadata": {},
   "outputs": [
    {
     "name": "stdout",
     "output_type": "stream",
     "text": [
      "Hello World\n",
      "Hello World\n",
      "Hello World\n",
      "Hello World\n",
      "\n",
      "This is some sample text file.\n",
      "\n",
      "['Hello World\\n', 'Hello World\\n', 'Hello World\\n', 'Hello World\\n']\n"
     ]
    }
   ],
   "source": [
    "f1=open(\"sample_files.txt\",\"r\")\n",
    "\n",
    "#it will read entire file\n",
    "print(f1.read())\n",
    "\n",
    "f2=open(\"sample_file.txt\")\n",
    "#it will read first line\n",
    "print(f2.readline())\n",
    "\n",
    "f3=open(\"sample_files.txt\",\"r\")\n",
    "#it will return list containing every single line\n",
    "print(f3.readlines())\n",
    "\n",
    "f1.close()\n",
    "f2.close()\n",
    "f3.close()\n"
   ]
  },
  {
   "cell_type": "markdown",
   "metadata": {},
   "source": [
    "# Reading using WITH OPEN"
   ]
  },
  {
   "cell_type": "code",
   "execution_count": 23,
   "metadata": {},
   "outputs": [
    {
     "name": "stdout",
     "output_type": "stream",
     "text": [
      "False\n",
      "Hello World\n",
      "Hello World\n",
      "Hello World\n",
      "Hello World\n",
      "\n"
     ]
    }
   ],
   "source": [
    "with open(\"sample_files.txt\",\"r\") as f:\n",
    "    \n",
    "    #return true if file is closed then we won't be able to read file f.read() will throw error\n",
    "    #returns false is file is not closed\n",
    "    print(f.closed)\n",
    "    print(f.read())\n",
    "    \n",
    "    #it automatically closes the file which ensures that clean up is there\n",
    "    #we don't have to write f.close() as we can see its printing true in next block even though f.close() is not used"
   ]
  },
  {
   "cell_type": "code",
   "execution_count": 24,
   "metadata": {},
   "outputs": [
    {
     "name": "stdout",
     "output_type": "stream",
     "text": [
      "True\n"
     ]
    }
   ],
   "source": [
    "print(f.closed)"
   ]
  },
  {
   "cell_type": "code",
   "execution_count": 27,
   "metadata": {},
   "outputs": [
    {
     "name": "stdout",
     "output_type": "stream",
     "text": [
      " World\n",
      "Hello World\n",
      "Hello World\n",
      "Hello World\n",
      "\n"
     ]
    }
   ],
   "source": [
    "#to skip first k characters use f.seek(k)\n",
    "with open(\"sample_files.txt\",'r') as f:\n",
    "    f.seek(5)\n",
    "    print(f.read())\n",
    "    \n",
    "#it skipped first 5 characters and started printing from World"
   ]
  },
  {
   "cell_type": "markdown",
   "metadata": {},
   "source": [
    "# Python -Working with JSON files"
   ]
  },
  {
   "cell_type": "markdown",
   "metadata": {},
   "source": [
    "### Serialise\n",
    "- json.dump(obj)\n",
    "- json.dumps(obj.file)\n",
    "\n",
    "### DeSerialise\n",
    "- json.load(JSON_file)\n",
    "- json.loads(JSON_file)\n",
    "\n",
    "### JSON: Javascript_Object_Notation\n",
    "- From main memory we serialise data and store it in JSON file present on hard-disk(secondary storage)\n",
    "- We deserialise from JSON file into Python object\n",
    "- Python file is in RAM and JSON file is on Hard disk"
   ]
  },
  {
   "cell_type": "markdown",
   "metadata": {},
   "source": [
    "### We will import json and then dump the \"book\" which is a python object into json file whose file handler is 'f'"
   ]
  },
  {
   "cell_type": "code",
   "execution_count": 39,
   "metadata": {},
   "outputs": [
    {
     "name": "stdout",
     "output_type": "stream",
     "text": [
      "<class 'dict'>\n",
      "{'name': 'A1', 'age': 30}\n"
     ]
    }
   ],
   "source": [
    "import json\n",
    "\n",
    "#Python Object\n",
    "#book is dictionary having key-value pair\n",
    "book={\n",
    "    \"name\":\"learning Python\",\n",
    "    \"age\":320,\n",
    "    \"authors\":[\n",
    "        {\n",
    "            \"name\":\"A1\", \n",
    "            \"age\":30\n",
    "        },\n",
    "        {\n",
    "            \"name\":\"A2\",\n",
    "            \"age\":40\n",
    "        }\n",
    "    ]\n",
    "}\n",
    "print(type(book))\n",
    "print(book['authors'][0])"
   ]
  },
  {
   "cell_type": "code",
   "execution_count": 46,
   "metadata": {},
   "outputs": [],
   "source": [
    "#this will create new myJsonFile as will dump dictionary into it\n",
    "#open newly created json file to check the dump\n",
    "with open('myJsonFile.json','w') as f:\n",
    "    json.dump(book,f)"
   ]
  },
  {
   "cell_type": "code",
   "execution_count": 42,
   "metadata": {},
   "outputs": [
    {
     "name": "stdout",
     "output_type": "stream",
     "text": [
      "<class 'str'>\n",
      "{\"name\": \"learning Python\", \"age\": 320, \"authors\": [{\"name\": \"A1\", \"age\": 30}, {\"name\": \"A2\", \"age\": 40}]}\n"
     ]
    }
   ],
   "source": [
    "#another method for dumping into json\n",
    "#it doesn't accepts file descriptor\n",
    "#it only serialises python object into string i.e., it returns string\n",
    "s=json.dumps(book)\n",
    "print(type(s))\n",
    "print(s)"
   ]
  },
  {
   "cell_type": "code",
   "execution_count": 43,
   "metadata": {},
   "outputs": [
    {
     "name": "stdout",
     "output_type": "stream",
     "text": [
      "<class 'dict'>\n",
      "{'name': 'learning Python', 'age': 320, 'authors': [{'name': 'A1', 'age': 30}, {'name': 'A2', 'age': 40}]}\n"
     ]
    }
   ],
   "source": [
    "#with the help of loads function we can deserialise json file string into python object\n",
    "#it returns a dictionary in this case which is python object\n",
    "p_obj=json.loads(s)\n",
    "print(type(p_obj))\n",
    "print(p_obj)"
   ]
  },
  {
   "cell_type": "code",
   "execution_count": 44,
   "metadata": {},
   "outputs": [
    {
     "name": "stdout",
     "output_type": "stream",
     "text": [
      "{'name': 'learning Python', 'age': 320, 'authors': [{'name': 'A1', 'age': 30}, {'name': 'A2', 'age': 40}]}\n"
     ]
    }
   ],
   "source": [
    "#other way of deserialising is with open\n",
    "with open('myJsonFile.json','r') as f:\n",
    "    data=json.load(f)\n",
    "    print(data)"
   ]
  },
  {
   "cell_type": "code",
   "execution_count": 45,
   "metadata": {},
   "outputs": [
    {
     "name": "stdout",
     "output_type": "stream",
     "text": [
      "{'age': 320,\n",
      " 'authors': [{'age': 30, 'name': 'A1'}, {'age': 40, 'name': 'A2'}],\n",
      " 'name': 'learning Python'}\n"
     ]
    }
   ],
   "source": [
    "#as we can see above the returned dictionary is quite large to make it readable we will import\n",
    "#pprint module\n",
    "import pprint\n",
    "with open('myJsonFile.json','r') as f:\n",
    "    data=json.load(f)\n",
    "    pprint.pprint(data)"
   ]
  },
  {
   "cell_type": "markdown",
   "metadata": {},
   "source": [
    "# Exception Handling in Python"
   ]
  },
  {
   "cell_type": "markdown",
   "metadata": {},
   "source": [
    "- errors that come while execution like syntax error, name error, value error"
   ]
  },
  {
   "cell_type": "markdown",
   "metadata": {},
   "source": [
    "## TRY and EXCEPT BLOCK"
   ]
  },
  {
   "cell_type": "code",
   "execution_count": 48,
   "metadata": {},
   "outputs": [
    {
     "name": "stdout",
     "output_type": "stream",
     "text": [
      "Something went wrong\n"
     ]
    }
   ],
   "source": [
    "#here we didn't catched the exception\n",
    "try:\n",
    "    f=open(\"someMissingfile.txt\",'r')\n",
    "except:\n",
    "    print(\"Something went wrong\")"
   ]
  },
  {
   "cell_type": "code",
   "execution_count": 50,
   "metadata": {},
   "outputs": [
    {
     "name": "stdout",
     "output_type": "stream",
     "text": [
      "Something went wrong\n",
      "<class 'Exception'>\n"
     ]
    }
   ],
   "source": [
    "#we can catch exception in following way\n",
    "#this is very generic exception\n",
    "try:\n",
    "    f=open(\"someMissingfile.txt\",'r')\n",
    "except Exception:\n",
    "    print(\"Something went wrong\")\n",
    "    print(Exception)"
   ]
  },
  {
   "cell_type": "code",
   "execution_count": 51,
   "metadata": {},
   "outputs": [
    {
     "name": "stdout",
     "output_type": "stream",
     "text": [
      "File doesn't exist.Please re-upload the file.\n"
     ]
    }
   ],
   "source": [
    "# we can catch particular exception also using Multiple except block\n",
    "try:\n",
    "    f=open(\"someMissingfile.txt\",'r')\n",
    "except FileNotFoundError:\n",
    "    print(\"File doesn't exist.Please re-upload the file.\")\n",
    "except Exception:\n",
    "    print(\"Something went wrong\")\n",
    "    print(Exception)"
   ]
  },
  {
   "cell_type": "code",
   "execution_count": 54,
   "metadata": {},
   "outputs": [
    {
     "name": "stdout",
     "output_type": "stream",
     "text": [
      "b is not defined\n",
      "<class 'NameError'>\n"
     ]
    }
   ],
   "source": [
    "#Name Error can also be catched\n",
    "try:\n",
    "    a=b\n",
    "    f=open(\"someMissingfile.txt\",'r')\n",
    "except NameError:\n",
    "    print(\"b is not defined\")\n",
    "    print(NameError)\n",
    "except FileNotFoundError:\n",
    "    print(\"File doesn't exist.Please re-upload the file.\")\n",
    "except Exception:\n",
    "    print(\"Something went wrong\")\n",
    "    print(Exception)"
   ]
  },
  {
   "cell_type": "markdown",
   "metadata": {},
   "source": [
    "## ELSE block"
   ]
  },
  {
   "cell_type": "markdown",
   "metadata": {},
   "source": [
    "- else block is executed when try block doesn't throws error"
   ]
  },
  {
   "cell_type": "code",
   "execution_count": 58,
   "metadata": {},
   "outputs": [
    {
     "name": "stdout",
     "output_type": "stream",
     "text": [
      "Enter your nameSneha Shukla\n",
      "Try executed without any error\n",
      "Form submitted successfully\n"
     ]
    }
   ],
   "source": [
    "try:\n",
    "    a=input(\"Enter your name\")\n",
    "except NameError:\n",
    "    print(\"b is not defined\")\n",
    "    print(NameError)\n",
    "except FileNotFoundError:\n",
    "    print(\"File doesn't exist.Please re-upload the file.\")\n",
    "except Exception:\n",
    "    print(\"Something went wrong\")\n",
    "    print(Exception)\n",
    "else:\n",
    "    print(\"Try executed without any error\")\n",
    "    print(\"Form submitted successfully\")\n"
   ]
  },
  {
   "cell_type": "markdown",
   "metadata": {},
   "source": [
    "### Raise Exception"
   ]
  },
  {
   "cell_type": "code",
   "execution_count": 60,
   "metadata": {},
   "outputs": [
    {
     "name": "stdout",
     "output_type": "stream",
     "text": [
      "Enter your nameSn\n",
      "Please enter a valid name\n",
      "<class 'Exception'>\n"
     ]
    }
   ],
   "source": [
    "try:\n",
    "    a=input(\"Enter your name\")\n",
    "    if(len(a)<3):\n",
    "        raise Exception\n",
    "except NameError:\n",
    "    print(\"b is not defined\")\n",
    "    print(NameError)\n",
    "except FileNotFoundError:\n",
    "    print(\"File doesn't exist.Please re-upload the file.\")\n",
    "except Exception:\n",
    "    print(\"Please enter a valid name\")\n",
    "    print(Exception)\n",
    "else:\n",
    "    print(\"Try executed without any error\")\n",
    "    print(\"Form submitted successfully\")\n"
   ]
  },
  {
   "cell_type": "markdown",
   "metadata": {},
   "source": [
    "### FINALLY BLOCK"
   ]
  },
  {
   "cell_type": "markdown",
   "metadata": {},
   "source": [
    "- finally block gets executed in every case"
   ]
  },
  {
   "cell_type": "code",
   "execution_count": 62,
   "metadata": {},
   "outputs": [
    {
     "name": "stdout",
     "output_type": "stream",
     "text": [
      "Enter your nameSn\n",
      "Please enter a valid name\n",
      "<class 'Exception'>\n",
      "It's always there\n"
     ]
    }
   ],
   "source": [
    "try:\n",
    "    a=input(\"Enter your name\")\n",
    "    if(len(a)<3):\n",
    "        raise Exception\n",
    "except NameError:\n",
    "    print(\"b is not defined\")\n",
    "    print(NameError)\n",
    "except FileNotFoundError:\n",
    "    print(\"File doesn't exist.Please re-upload the file.\")\n",
    "except Exception:\n",
    "    print(\"Please enter a valid name\")\n",
    "    print(Exception)\n",
    "else:\n",
    "    print(\"Try executed without any error\")\n",
    "    print(\"Form submitted successfully\")\n",
    "finally:\n",
    "    print(\"It's always there\")"
   ]
  },
  {
   "cell_type": "code",
   "execution_count": 63,
   "metadata": {},
   "outputs": [
    {
     "name": "stdout",
     "output_type": "stream",
     "text": [
      "Enter your nameSneha Shukla\n",
      "Try executed without any error\n",
      "Form submitted successfully\n",
      "It's always there\n"
     ]
    }
   ],
   "source": [
    "try:\n",
    "    a=input(\"Enter your name\")\n",
    "    if(len(a)<3):\n",
    "        raise Exception\n",
    "except NameError:\n",
    "    print(\"b is not defined\")\n",
    "    print(NameError)\n",
    "except FileNotFoundError:\n",
    "    print(\"File doesn't exist.Please re-upload the file.\")\n",
    "except Exception:\n",
    "    print(\"Please enter a valid name\")\n",
    "    print(Exception)\n",
    "else:\n",
    "    print(\"Try executed without any error\")\n",
    "    print(\"Form submitted successfully\")\n",
    "finally:\n",
    "    print(\"It's always there\")"
   ]
  },
  {
   "cell_type": "code",
   "execution_count": null,
   "metadata": {},
   "outputs": [],
   "source": []
  }
 ],
 "metadata": {
  "kernelspec": {
   "display_name": "Python 3",
   "language": "python",
   "name": "python3"
  },
  "language_info": {
   "codemirror_mode": {
    "name": "ipython",
    "version": 3
   },
   "file_extension": ".py",
   "mimetype": "text/x-python",
   "name": "python",
   "nbconvert_exporter": "python",
   "pygments_lexer": "ipython3",
   "version": "3.7.6"
  }
 },
 "nbformat": 4,
 "nbformat_minor": 2
}
