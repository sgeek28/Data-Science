{
 "cells": [
  {
   "cell_type": "markdown",
   "metadata": {},
   "source": [
    "###Python Modules\n",
    "#functions that help us to achieve code reusability"
   ]
  },
  {
   "cell_type": "markdown",
   "metadata": {},
   "source": [
    "#cmath module for complex numbers\n",
    "#math module for arithmatical, logarithmic operations on numbers whicg are not complex\n"
   ]
  },
  {
   "cell_type": "code",
   "execution_count": 3,
   "metadata": {},
   "outputs": [
    {
     "name": "stdout",
     "output_type": "stream",
     "text": [
      "120\n"
     ]
    }
   ],
   "source": [
    "import math\n",
    "#print(factorial(5))-this line will throw error as we need to include math package i.e, math.factorial\n",
    "print(math.factorial(5))"
   ]
  },
  {
   "cell_type": "code",
   "execution_count": 16,
   "metadata": {},
   "outputs": [
    {
     "name": "stdout",
     "output_type": "stream",
     "text": [
      "720\n",
      "7\n",
      "3\n",
      "1.0\n",
      "4.0\n",
      "inf\n",
      "-inf\n",
      "3.141592653589793\n",
      "15\n",
      "9\n"
     ]
    }
   ],
   "source": [
    "#renamed factorial as fact \n",
    "from math import factorial as fact\n",
    "print(fact(6))\n",
    "print(math.floor(15/2))\n",
    "print(math.gcd(3,15))\n",
    "#by default base is e i.e, math.e which is constant\n",
    "print(math.log(math.e))\n",
    "#need to specify base in other case like her base is 2\n",
    "print(math.log(16,2))\n",
    "#it supports +inf and -inf\n",
    "print(math.inf)\n",
    "print(-math.inf)\n",
    "print(math.pi)\n",
    "print(sum([1,2,3,4,5]))\n",
    "print(max([3,5,7,9,0]))"
   ]
  },
  {
   "cell_type": "markdown",
   "metadata": {},
   "source": [
    "###Sys modules\n",
    "### help us to provide access to variables and functions related to system or python interpreter\n",
    "### it helps us to find current directory, windows version, command line arguments"
   ]
  },
  {
   "cell_type": "markdown",
   "metadata": {},
   "source": [
    "###argv\n",
    "#it gives list of command line arguments\n"
   ]
  },
  {
   "cell_type": "code",
   "execution_count": 19,
   "metadata": {},
   "outputs": [
    {
     "name": "stdout",
     "output_type": "stream",
     "text": [
      "['/home/sneha/.local/lib/python3.7/site-packages/ipykernel_launcher.py', '-f', '/home/sneha/.local/share/jupyter/runtime/kernel-b7a35d2a-c05d-40cb-af32-0812133b789f.json']\n"
     ]
    }
   ],
   "source": [
    "import sys\n",
    "def printData():\n",
    "    print(sys.argv)\n",
    "printData()\n",
    "\n",
    "#sys.argv prints the argv[0] which is filename ie. jupyter notebook location we can pass more command \n",
    "#line arguments while running on console like python PythonModules.ipynb 10 20 30\n",
    "# here 10 is argv[1]\n",
    "# 20 is argv[2]\n",
    "# 30 is argv[3]\n",
    "#sys.argv will print all if given on console"
   ]
  },
  {
   "cell_type": "code",
   "execution_count": 23,
   "metadata": {},
   "outputs": [],
   "source": [
    "def printSum():\n",
    "    print(int(sys.argv[1])+int(sys.argv[2]))\n",
    "#printSum() "
   ]
  },
  {
   "cell_type": "code",
   "execution_count": 24,
   "metadata": {},
   "outputs": [
    {
     "name": "stdout",
     "output_type": "stream",
     "text": [
      "3.7.6 (default, Jan 19 2020, 22:34:52) \n",
      "[GCC 9.2.1 20200117]\n",
      "['/home/sneha', '/usr/lib/python37.zip', '/usr/lib/python3.7', '/usr/lib/python3.7/lib-dynload', '', '/home/sneha/.local/lib/python3.7/site-packages', '/usr/local/lib/python3.7/dist-packages', '/usr/lib/python3/dist-packages', '/usr/lib/python3.7/dist-packages', '/usr/local/lib/python3.7/dist-packages/IPython/extensions', '/home/sneha/.ipython']\n"
     ]
    }
   ],
   "source": [
    "print(sys.version)\n",
    "#interpreter will search for packages in these paths.\n",
    "print(sys.path)"
   ]
  },
  {
   "cell_type": "code",
   "execution_count": 29,
   "metadata": {},
   "outputs": [
    {
     "name": "stdout",
     "output_type": "stream",
     "text": [
      "<class '_io.TextIOWrapper'>\n",
      "<ipykernel.iostream.OutStream object at 0x7f07a4da5c90>\n",
      "9223372036854775807\n"
     ]
    }
   ],
   "source": [
    "#maxsize- maximum memory that a data-structure can take in python\n",
    "#maxint- maximum integer that we can make in python\n",
    "#stdin,#stdout,#stderr-file system objects\n",
    "#python documentation have more info on these modules\n",
    "print(type(sys.stdin))\n",
    "print(sys.stdout)\n",
    "print(sys.maxsize)"
   ]
  },
  {
   "cell_type": "markdown",
   "metadata": {},
   "source": [
    "###Making your own python module\n",
    "###ie. define your own classes and functions in .py file\n",
    "### we can import our module in other file"
   ]
  },
  {
   "cell_type": "markdown",
   "metadata": {},
   "source": [
    "#refer file test.py and hello.py\n",
    "#hello.py is imported in test.py\n",
    "#in order to import all modules of hello.py \n",
    "#we can use from hello import *"
   ]
  },
  {
   "cell_type": "markdown",
   "metadata": {},
   "source": [
    "###Python Module __name=='__main__'\n",
    "#assume there are two modules m1.py and m2.py\n",
    "#m1.py is imported in m2.py then the name of m1.py will remain m1.py only but the current module\n",
    "#which is being run will become ___main__ module i.e, here m2.py will become '__main__'"
   ]
  },
  {
   "cell_type": "code",
   "execution_count": null,
   "metadata": {},
   "outputs": [],
   "source": []
  }
 ],
 "metadata": {
  "kernelspec": {
   "display_name": "Python 3",
   "language": "python",
   "name": "python3"
  },
  "language_info": {
   "codemirror_mode": {
    "name": "ipython",
    "version": 3
   },
   "file_extension": ".py",
   "mimetype": "text/x-python",
   "name": "python",
   "nbconvert_exporter": "python",
   "pygments_lexer": "ipython3",
   "version": "3.7.6"
  }
 },
 "nbformat": 4,
 "nbformat_minor": 2
}
