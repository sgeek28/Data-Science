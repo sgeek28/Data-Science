{
 "cells": [
  {
   "cell_type": "markdown",
   "metadata": {},
   "source": [
    "###Hello World\n",
    "-A\n",
    "-B\n",
    "\n"
   ]
  },
  {
   "cell_type": "code",
   "execution_count": 5,
   "metadata": {},
   "outputs": [
    {
     "name": "stdout",
     "output_type": "stream",
     "text": [
      "Hi\n"
     ]
    }
   ],
   "source": [
    "print(\"Hi\")\n",
    "#Esc,Y,Shift+enter"
   ]
  },
  {
   "cell_type": "code",
   "execution_count": 6,
   "metadata": {},
   "outputs": [],
   "source": [
    "#add new cell above cell\n",
    "#Esc+A\n",
    "#add cell below a given cell\n",
    "#esc+B\n",
    "#add descritpion about algo\n",
    "#add ###Text -A-B \n",
    "#press esc+M+Shift+Enter\n"
   ]
  },
  {
   "cell_type": "code",
   "execution_count": 7,
   "metadata": {},
   "outputs": [
    {
     "name": "stdout",
     "output_type": "stream",
     "text": [
      "[1 2 3 4]\n",
      "(4,)\n",
      "[[1 2 3 4]\n",
      " [5 6 7 8]]\n",
      "(2, 4)\n"
     ]
    }
   ],
   "source": [
    "import numpy as np\n",
    "a=np.array([1,2,3,4])\n",
    "print(a)\n",
    "print(a.shape)\n",
    "b=np.array([[1,2,3,4],[5,6,7,8]])\n",
    "print(b)\n",
    "print(b.shape)\n"
   ]
  },
  {
   "cell_type": "code",
   "execution_count": 8,
   "metadata": {},
   "outputs": [
    {
     "data": {
      "text/plain": [
       "array([[ 30,  70],\n",
       "       [ 70, 174]])"
      ]
     },
     "execution_count": 8,
     "metadata": {},
     "output_type": "execute_result"
    }
   ],
   "source": [
    "np.dot(b,b.T)"
   ]
  },
  {
   "cell_type": "code",
   "execution_count": 13,
   "metadata": {},
   "outputs": [
    {
     "name": "stdout",
     "output_type": "stream",
     "text": [
      "[81 63 83 99 93]\n",
      "[[88 96 61 87 62]\n",
      " [64 88 76 86 66]\n",
      " [67 65 98 65 87]\n",
      " [89 89 83 77 65]\n",
      " [89 69 77 78 66]]\n",
      "61\n",
      "98\n"
     ]
    }
   ],
   "source": [
    "\n",
    "#generate 5 numbers between 60 and 100\n",
    "print(np.random.randint(60,100,5))\n",
    "\n",
    "#generate random 2D matrix\n",
    "matrix=np.random.randint(60,100,(5,5))\n",
    "print(matrix)\n",
    "\n",
    "#find min and max from matrxi\n",
    "print(np.min(matrix))\n",
    "print(np.max(matrix))"
   ]
  },
  {
   "cell_type": "code",
   "execution_count": 16,
   "metadata": {},
   "outputs": [
    {
     "name": "stdout",
     "output_type": "stream",
     "text": [
      "[1 2 4 3 2 5 6 4 1 2]\n",
      "(array([1, 2, 3, 4, 5, 6]), array([2, 3, 1, 2, 1, 1]))\n",
      "[1 2 3 4 5 6]\n",
      "[2 3 1 2 1 1]\n"
     ]
    }
   ],
   "source": [
    "a=np.array([1,2,4,3,2,5,6,4,1,2])\n",
    "print(a)\n",
    "b=np.unique(a,return_counts=True)\n",
    "print(b)\n",
    "print(b[0])\n",
    "print(b[1])"
   ]
  },
  {
   "cell_type": "code",
   "execution_count": 18,
   "metadata": {},
   "outputs": [
    {
     "name": "stdout",
     "output_type": "stream",
     "text": [
      "6\n"
     ]
    }
   ],
   "source": [
    "#to get index with high value\n",
    "print(np.argmax(a))\n"
   ]
  },
  {
   "cell_type": "code",
   "execution_count": 20,
   "metadata": {},
   "outputs": [
    {
     "name": "stdout",
     "output_type": "stream",
     "text": [
      "2\n"
     ]
    }
   ],
   "source": [
    "#index with high frequency in b array\n",
    "idx=np.argmax(b[1])\n",
    "element=b[0][idx]\n",
    "print(element)"
   ]
  },
  {
   "cell_type": "code",
   "execution_count": 22,
   "metadata": {},
   "outputs": [
    {
     "name": "stdout",
     "output_type": "stream",
     "text": [
      "[[88 96 61 87 62]\n",
      " [64 88 76 86 66]\n",
      " [67 65 98 65 87]\n",
      " [89 89 83 77 65]\n",
      " [89 69 77 78 66]]\n"
     ]
    },
    {
     "data": {
      "text/plain": [
       "array([[65, 98],\n",
       "       [89, 83]])"
      ]
     },
     "execution_count": 22,
     "metadata": {},
     "output_type": "execute_result"
    }
   ],
   "source": [
    "#slicing of matrix\n",
    "print(matrix)\n",
    "matrix[2:4,1:3]\n",
    "#to get matrix from 2 and 3 row and 1 and 2 column "
   ]
  },
  {
   "cell_type": "code",
   "execution_count": null,
   "metadata": {},
   "outputs": [],
   "source": []
  },
  {
   "cell_type": "code",
   "execution_count": null,
   "metadata": {},
   "outputs": [],
   "source": []
  }
 ],
 "metadata": {
  "kernelspec": {
   "display_name": "Python 3",
   "language": "python",
   "name": "python3"
  },
  "language_info": {
   "codemirror_mode": {
    "name": "ipython",
    "version": 3
   },
   "file_extension": ".py",
   "mimetype": "text/x-python",
   "name": "python",
   "nbconvert_exporter": "python",
   "pygments_lexer": "ipython3",
   "version": "3.7.6"
  }
 },
 "nbformat": 4,
 "nbformat_minor": 2
}
